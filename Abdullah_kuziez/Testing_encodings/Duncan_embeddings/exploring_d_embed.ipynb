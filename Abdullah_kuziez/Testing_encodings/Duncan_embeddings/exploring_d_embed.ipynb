{
 "cells": [
  {
   "cell_type": "code",
   "execution_count": 7,
   "metadata": {},
   "outputs": [],
   "source": [
    "import pandas as pd\n",
    "path=r'C:\\Users\\abdul\\OneDrive - University of Cambridge\\Desktop\\MDRA\\cellbox_torch\\Abdullah_kuziez\\online_data\\PPI_hein_go_huttlin_rolland_features.tsv'\n",
    "embeddings=pd.read_csv(path,sep='\\t')\n",
    "embeddings.rename(columns={'Unnamed: 0':'Proteins'},inplace=True)\n",
    "embeddings.transpose(inplace=True)\n",
    "#pull out collumns that are the proteins of interest:"
   ]
  },
  {
   "cell_type": "code",
   "execution_count": null,
   "metadata": {},
   "outputs": [],
   "source": []
  }
 ],
 "metadata": {
  "kernelspec": {
   "display_name": "cellbox",
   "language": "python",
   "name": "python3"
  },
  "language_info": {
   "codemirror_mode": {
    "name": "ipython",
    "version": 3
   },
   "file_extension": ".py",
   "mimetype": "text/x-python",
   "name": "python",
   "nbconvert_exporter": "python",
   "pygments_lexer": "ipython3",
   "version": "3.8.20"
  }
 },
 "nbformat": 4,
 "nbformat_minor": 2
}
