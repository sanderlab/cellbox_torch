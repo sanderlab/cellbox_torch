{
 "cells": [
  {
   "cell_type": "code",
   "execution_count": null,
   "metadata": {},
   "outputs": [],
   "source": [
    "# first get a few different types of encodings for molecular signatures\n",
    "\n",
    "\n",
    "\n",
    "\n",
    "#Part 1: SMILES for the different molecules; -> how do I pull smiles, maybe just o3?\n",
    "\n",
    "\n",
    "\n",
    "#part 2: using some published models recently to encode molecular signatures ( ask chat gpt to find papers that would be relevant)\n",
    "\n",
    "\n",
    "\n",
    "\n",
    "#part 3: ask chat gpt to see what other ways of molecular encoding I can use\n"
   ]
  },
  {
   "cell_type": "code",
   "execution_count": null,
   "metadata": {},
   "outputs": [],
   "source": [
    "#use a multilayer (3 layers) perceptron to predict protein levels given signature\n",
    "\n",
    "\n",
    "\n",
    "#use a random forest model to predict protein levels given signature\n",
    "\n",
    "\n",
    "\n",
    "\n",
    "# use a third model which yasa had suggested, but I don't remember what it was\n",
    "\n",
    "\n",
    "\n",
    "#use an elastic net model on the encoding!\n",
    "\n",
    "\n"
   ]
  }
 ],
 "metadata": {
  "kernelspec": {
   "display_name": "cellbox",
   "language": "python",
   "name": "python3"
  },
  "language_info": {
   "name": "python",
   "version": "3.8.20"
  }
 },
 "nbformat": 4,
 "nbformat_minor": 2
}
