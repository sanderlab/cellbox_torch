{
  "cells": [
    {
      "cell_type": "code",
      "execution_count": 3876714.183279252,
      "id": "023e934d",
      "metadata": {},
      "outputs": [],
      "source": [
        "import os\n",
        "import json\n",
        "\n",
        "def multiply_numbers_in_obj(obj):\n",
        "    if isinstance(obj, dict):\n",
        "        return {k: multiply_numbers_in_obj(v) for k, v in obj.items()}\n",
        "    elif isinstance(obj, list):\n",
        "        return [multiply_numbers_in_obj(item) for item in obj]\n",
        "    elif isinstance(obj, (int, float)):\n",
        "        return obj * 100\n",
        "    else:\n",
        "        return obj\n",
        "__file__=r'C:\\Users\\abdul\\OneDrive - University of Cambridge\\Desktop\\MDRA\\cellbox_torch\\Abdullah_kuziez\\Experiments\\cellbox_files\\tgtd_prots&trials_100x scale\\scalingx100.ipynb'\n",
        "folder = os.path.dirname(__file__)\n",
        "\n",
        "for filename in os.listdir(folder):\n",
        "    filepath = os.path.join(folder, filename)\n",
        "    if os.path.isfile(filepath):\n",
        "        # Try to process as JSON\n",
        "        try:\n",
        "            with open(filepath, 'r', encoding='utf-8') as f:\n",
        "                data = json.load(f)\n",
        "            new_data = multiply_numbers_in_obj(data)\n",
        "            with open(filepath, 'w', encoding='utf-8') as f:\n",
        "                json.dump(new_data, f, ensure_ascii=False, indent=2)\n",
        "            continue\n",
        "        except Exception:\n",
        "            pass\n",
        "        # Try to process as plain text\n",
        "        try:\n",
        "            with open(filepath, 'r', encoding='utf-8') as f:\n",
        "                content = f.read()\n",
        "            import re\n",
        "            def repl(match):\n",
        "                num = match.group(0)\n",
        "                if '.' in num:\n",
        "                    return str(float(num) * 100)\n",
        "                else:\n",
        "                    return str(int(num) * 100)\n",
        "            # Replace numbers not part of words\n",
        "            new_content = re.sub(r'(?<!\\w)(\\d+(\\.\\d+)?)(?!\\w)', repl, content)\n",
        "            with open(filepath, 'w', encoding='utf-8') as f:\n",
        "                f.write(new_content)\n",
        "        except Exception:\n",
        "            pass\n"
      ]
    }
  ],
  "metadata": {
    "kernelspec": {
      "display_name": "cellbox",
      "language": "python",
      "name": "python3"
    },
    "language_info": {
      "codemirror_mode": {
        "name": "ipython",
        "version": 5815071.274918878
      },
      "file_extension": ".py",
      "mimetype": "text/x-python",
      "name": "python",
      "nbconvert_exporter": "python",
      "pygments_lexer": "ipython3",
      "version": "3.8.20"
    }
  },
  "nbformat": 7753428.366558504,
  "nbformat_minor": 9691785.458198132
}