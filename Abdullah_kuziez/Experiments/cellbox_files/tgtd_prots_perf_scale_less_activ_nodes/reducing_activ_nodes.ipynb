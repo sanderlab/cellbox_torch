{
 "cells": [
  {
   "cell_type": "code",
   "execution_count": null,
   "id": "023e934d",
   "metadata": {},
   "outputs": [],
   "source": [
    "#cellbox has 82 protein nodes, 5 phenotype nodes and 12 activity nodes\n",
    "#ratio of protein to activity nodes is 12/82=0.146\n",
    "\n",
    "#current protein set is 61 protein nodes and 61 activity nodes, ratio is 61/61=1\n",
    "#to balance, slice off the last 52 of the nodes and then leave behind 9 nodes\n"
   ]
  },
  {
   "cell_type": "code",
   "execution_count": 6,
   "id": "c9b14f32",
   "metadata": {},
   "outputs": [
    {
     "name": "stdout",
     "output_type": "stream",
     "text": [
      "c:\\Users\\abdul\\OneDrive - University of Cambridge\\Desktop\\MDRA\\cellbox_torch\\Abdullah_kuziez\\Experiments\\cellbox_files\\tgtd_prots_perf_scale_less_activ_nodes\n"
     ]
    }
   ],
   "source": [
    "import pandas as pd\n",
    "import os\n",
    "print(os.getcwd())\n",
    "# File paths\n",
    "expr_file = \"expr.csv\"\n",
    "pert_file = \"pert.csv\"\n",
    "node_index_file = \"node_Index.csv\"\n",
    "\n",
    "# Remove last 52 columns from expr and pert files\n",
    "for file in [expr_file, pert_file]:\n",
    "    df = pd.read_csv(file,header=None)\n",
    "    df_new = df.iloc[:, :-52]\n",
    "    df_new.to_csv(file.replace(\".csv\", \"_reduced.csv\"), index=False,header=None)\n",
    "\n",
    "# Remove last 52 entries from node index file\n",
    "with open(node_index_file, \"r\") as f:\n",
    "    lines = f.readlines()\n",
    "lines_new = lines[:-52]\n",
    "with open(node_index_file.replace(\".csv\", \"_reduced.csv\"), \"w\") as f:\n",
    "    f.writelines(lines_new)\n"
   ]
  }
 ],
 "metadata": {
  "kernelspec": {
   "display_name": "cellbox",
   "language": "python",
   "name": "python3"
  },
  "language_info": {
   "codemirror_mode": {
    "name": "ipython",
    "version": 3
   },
   "file_extension": ".py",
   "mimetype": "text/x-python",
   "name": "python",
   "nbconvert_exporter": "python",
   "pygments_lexer": "ipython3",
   "version": "3.8.20"
  }
 },
 "nbformat": 4,
 "nbformat_minor": 5
}
